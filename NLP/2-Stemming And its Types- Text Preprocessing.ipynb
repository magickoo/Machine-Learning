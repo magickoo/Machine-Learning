{
 "cells": [
  {
   "cell_type": "markdown",
   "id": "55789a7d-e75a-459a-87f1-84e62d42ade1",
   "metadata": {},
   "source": [
    "## Stemming\n",
    "Stemming is the process of reducing a word to its word stem that affixes to suffixes and prefixes or to the roots of words known as a lemma. Stemming is important in natural language understanding (NLU) and natural language processing (NLP)."
   ]
  },
  {
   "cell_type": "code",
   "execution_count": 10,
   "id": "34ee6cd2-21c4-4be8-bf14-3757ba48b081",
   "metadata": {},
   "outputs": [],
   "source": [
    "words = [\"eating\", \"eats\", \"eaten\", \"writing\" , \"writes\", \"programming\" , \"programs\",\"history\",\"finally\",\"finalized\" ]"
   ]
  },
  {
   "cell_type": "markdown",
   "id": "ecfed02e-cdc0-434d-ae72-16a4981090ab",
   "metadata": {},
   "source": [
    "### PorterStemmer"
   ]
  },
  {
   "cell_type": "code",
   "execution_count": 4,
   "id": "739d43cf-3aa6-4167-86f3-2f9116c7c1d8",
   "metadata": {},
   "outputs": [],
   "source": [
    "from nltk.stem import PorterStemmer"
   ]
  },
  {
   "cell_type": "code",
   "execution_count": 6,
   "id": "f24832f8-da8a-4625-ba44-611cfb43fa8e",
   "metadata": {},
   "outputs": [],
   "source": [
    "stemming = PorterStemmer()"
   ]
  },
  {
   "cell_type": "code",
   "execution_count": 11,
   "id": "407fa18e-0469-4b03-b64c-80927d2a4914",
   "metadata": {},
   "outputs": [
    {
     "name": "stdout",
     "output_type": "stream",
     "text": [
      "eating-->eat\n",
      "eats-->eat\n",
      "eaten-->eaten\n",
      "writing-->write\n",
      "writes-->write\n",
      "programming-->program\n",
      "programs-->program\n",
      "history-->histori\n",
      "finally-->final\n",
      "finalized-->final\n"
     ]
    }
   ],
   "source": [
    "for word in words:\n",
    "    print(word + \"-->\" + stemming.stem(word))"
   ]
  },
  {
   "cell_type": "code",
   "execution_count": 13,
   "id": "e3e121f8-66da-4ba3-8fbc-31163822efa1",
   "metadata": {},
   "outputs": [
    {
     "data": {
      "text/plain": [
       "'congratl'"
      ]
     },
     "execution_count": 13,
     "metadata": {},
     "output_type": "execute_result"
    }
   ],
   "source": [
    "stemming.stem('congratlations')"
   ]
  },
  {
   "cell_type": "code",
   "execution_count": 14,
   "id": "7226badc-40e4-4a82-9ec9-dbdc6f935dad",
   "metadata": {},
   "outputs": [
    {
     "data": {
      "text/plain": [
       "'sit'"
      ]
     },
     "execution_count": 14,
     "metadata": {},
     "output_type": "execute_result"
    }
   ],
   "source": [
    "stemming.stem('sitting')"
   ]
  },
  {
   "cell_type": "code",
   "execution_count": 15,
   "id": "9f5e39f6-7cac-41e6-b570-a887eb0f7ee6",
   "metadata": {},
   "outputs": [],
   "source": [
    "from nltk.stem import RegexpStemmer"
   ]
  },
  {
   "cell_type": "code",
   "execution_count": 17,
   "id": "b041ee18-3733-4576-bc52-f3e4e9c5825c",
   "metadata": {},
   "outputs": [],
   "source": [
    "reg_stemmer = RegexpStemmer('ing$|s$|e$|able$',min =4)"
   ]
  },
  {
   "cell_type": "code",
   "execution_count": 18,
   "id": "7c8afc10-3f0e-4fff-be54-56cfad4ddb2a",
   "metadata": {},
   "outputs": [
    {
     "data": {
      "text/plain": [
       "'eat'"
      ]
     },
     "execution_count": 18,
     "metadata": {},
     "output_type": "execute_result"
    }
   ],
   "source": [
    "reg_stemmer.stem('eating')"
   ]
  },
  {
   "cell_type": "code",
   "execution_count": 19,
   "id": "08da2c58-364a-4ce7-b069-849fc482fa2b",
   "metadata": {},
   "outputs": [
    {
     "data": {
      "text/plain": [
       "'boy'"
      ]
     },
     "execution_count": 19,
     "metadata": {},
     "output_type": "execute_result"
    }
   ],
   "source": [
    "reg_stemmer.stem('boys')"
   ]
  },
  {
   "cell_type": "markdown",
   "id": "95cd5df2-2b1d-4d43-a677-24fbe3a7c177",
   "metadata": {},
   "source": [
    "### Snowball Stemmer: better accuracy"
   ]
  },
  {
   "cell_type": "code",
   "execution_count": 22,
   "id": "7376328b-d932-42e3-af80-adb0bc207140",
   "metadata": {},
   "outputs": [],
   "source": [
    "from nltk.stem import SnowballStemmer"
   ]
  },
  {
   "cell_type": "code",
   "execution_count": 26,
   "id": "a809d82e-879e-4139-a553-cb786c890092",
   "metadata": {},
   "outputs": [],
   "source": [
    "snowbstemmer = SnowballStemmer('english')"
   ]
  },
  {
   "cell_type": "code",
   "execution_count": 29,
   "id": "d286e29f-728d-494b-ad4c-5623088536b3",
   "metadata": {},
   "outputs": [
    {
     "name": "stdout",
     "output_type": "stream",
     "text": [
      "eating--->eat\n",
      "eats--->eat\n",
      "eaten--->eaten\n",
      "writing--->write\n",
      "writes--->write\n",
      "programming--->program\n",
      "programs--->program\n",
      "history--->histori\n",
      "finally--->final\n",
      "finalized--->final\n"
     ]
    }
   ],
   "source": [
    "for w in words:\n",
    "    print(w + \"--->\" + snowbstemmer.stem(w))"
   ]
  },
  {
   "cell_type": "code",
   "execution_count": 30,
   "id": "a508a9b3-9a25-4535-ad53-fa89e1370e8c",
   "metadata": {},
   "outputs": [
    {
     "data": {
      "text/plain": [
       "('fairli', 'sportingli')"
      ]
     },
     "execution_count": 30,
     "metadata": {},
     "output_type": "execute_result"
    }
   ],
   "source": [
    "stemming.stem(\"fairly\"), stemming.stem(\"sportingly\")"
   ]
  },
  {
   "cell_type": "code",
   "execution_count": 32,
   "id": "e8e2a503-535b-4286-9f42-83d235c9c17c",
   "metadata": {},
   "outputs": [
    {
     "data": {
      "text/plain": [
       "('fair', 'sport')"
      ]
     },
     "execution_count": 32,
     "metadata": {},
     "output_type": "execute_result"
    }
   ],
   "source": [
    "snowbstemmer.stem(\"fairly\"), snowbstemmer.stem(\"sportingly\")"
   ]
  },
  {
   "cell_type": "code",
   "execution_count": null,
   "id": "34660195-4190-455f-81eb-325d9e9b9da8",
   "metadata": {},
   "outputs": [],
   "source": []
  }
 ],
 "metadata": {
  "kernelspec": {
   "display_name": "Python 3 (ipykernel)",
   "language": "python",
   "name": "python3"
  },
  "language_info": {
   "codemirror_mode": {
    "name": "ipython",
    "version": 3
   },
   "file_extension": ".py",
   "mimetype": "text/x-python",
   "name": "python",
   "nbconvert_exporter": "python",
   "pygments_lexer": "ipython3",
   "version": "3.10.5"
  }
 },
 "nbformat": 4,
 "nbformat_minor": 5
}
